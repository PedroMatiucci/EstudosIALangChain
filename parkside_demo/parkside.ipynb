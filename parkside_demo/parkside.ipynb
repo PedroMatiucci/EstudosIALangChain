{
 "cells": [
  {
   "cell_type": "code",
   "id": "initial_id",
   "metadata": {
    "collapsed": true,
    "ExecuteTime": {
     "end_time": "2024-06-26T13:40:00.923775Z",
     "start_time": "2024-06-26T13:40:00.915434Z"
    }
   },
   "source": [
    "import os\n",
    "from dotenv import load_dotenv\n",
    "from langchain_community.document_loaders import WebBaseLoader\n",
    "import bs4\n",
    "from langchain.text_splitter import RecursiveCharacterTextSplitter\n",
    "from langchain_openai import OpenAIEmbeddings\n",
    "from langchain_community.vectorstores import Chroma\n",
    "from langchain_community.vectorstores import FAISS\n",
    "from langchain.chains.combine_documents import create_stuff_documents_chain\n",
    "from langchain.chains import create_retrieval_chain\n",
    "from langchain_core.prompts import ChatPromptTemplate\n",
    "from langchain_openai import ChatOpenAI\n",
    "load_dotenv()\n",
    "os.environ[\"OPENAI_API_KEY\"]=os.getenv(\"OPENAI_API_KEY\")\n",
    "os.environ[\"LANGCHAIN_TRACING_V2\"]=\"true\"\n",
    "os.environ[\"LANGCHAIN_API_KEY\"]=os.getenv(\"LANGCHAIN_API_KEY\")"
   ],
   "outputs": [],
   "execution_count": 25
  },
  {
   "metadata": {
    "ExecuteTime": {
     "end_time": "2024-06-26T13:40:01.187869Z",
     "start_time": "2024-06-26T13:40:00.925766Z"
    }
   },
   "cell_type": "code",
   "source": [
    "loader = WebBaseLoader(web_path=(\n",
    "    \"https://www.parkside.com.br/como-funciona\", \"https://www.parkside.com.br/diferenciais\",\n",
    "    \"https://www.parkside.com.br/duvidas-frequentes\"),\n",
    "    bs_kwargs=dict(parse_only=bs4.SoupStrainer(\n",
    "        class_=(\n",
    "            \"container-col-18 is-pad-t-72\", \"container-col-18 less-padding is-pad-tb-72\", \"faq-question\",\n",
    "            \"faq-answer\", \"faq-answer-p\", \"faq-question-label no-margin\")\n",
    "    )))\n",
    "text_documents = loader.load()"
   ],
   "id": "d862b51a3ebda7cc",
   "outputs": [],
   "execution_count": 26
  },
  {
   "metadata": {
    "ExecuteTime": {
     "end_time": "2024-06-26T13:40:01.195290Z",
     "start_time": "2024-06-26T13:40:01.188424Z"
    }
   },
   "cell_type": "code",
   "source": "text_documents",
   "id": "9fdb40967686b7f4",
   "outputs": [
    {
     "data": {
      "text/plain": [
       "[Document(page_content='Alugar com a Parkside é fácilSua mudança nunca esteve tão perto!1Selecione seu studioNavegue pela nossas unidades para conferir a localização que mais te interessa e selecione o studio desejado conforme suas necessidadesCONHECER\\xa0STUDIOS2Decida quanto tempo quer ficarVocê pode se tornar um Parksider a partir de 1 mês até o tempo que quiser, quanto maior o tempo de locação, melhor o preço fica para você.3Envie os dadosCalma! Não vamos pedir pra você ir ao cartório, assinar documentos, reconhecer firma e outras burocracias. Nosso processo é simples e prático, vamos exigir apenas alguns dados pessoais para efetivar a locação.\\u200dOs dados necessários são:- CPF- RG- Nome Completo- Data de Nascimento4Faça as malas e entre!Sua moradia estará disponível 24h após confirmação do procedimento. Você contará com a equipe Parkside durante todo o processo. Rápido, né?!', metadata={'source': 'https://www.parkside.com.br/como-funciona'}),\n",
       " Document(page_content='100% mobiliado e equipadoStudios mobiliados e equipados com tudo que você precisa para morar bem, com design moderno e desenhado para um experiência únicaContratos FlexíveisSabemos que nossos moradores prezam pela flexibilidade e, por isso, oferecemos pacotes de aluguel pelo tempo que você precisar, a partir de 1 mêsSem fiador ou depósito cauçãoProcesso de locação rápido, simples e sem necessidade de fiador. O processo de locação é 100% online e pode ser feito em 24h!Atendimento PersonalizadoEntendemos que mudar de casa pode ser estressante, por isso temos uma equipe sempre disponível para te ajudar em todo o processo de locação e mudança. Suporte desde o processo de procura, contrato, até serviços on-demandPagamento\\xa0SimplificadoOs pagamentos são feitos no modelo de ‘pagar para morar’, por isso você faz o pagamento mensal por boleto único. Fácil e rápido!Melhores localizações de FlorianópolisMore nas melhores localizações de Florianópolis, nossos prédios são desenvolvidos para dar o máximo de praticidade e conforto aos moradores, você pode fazer tudo a pé.', metadata={'source': 'https://www.parkside.com.br/diferenciais'}),\n",
       " Document(page_content='Preciso de um fiador?Não é necessário fiador ou depósito caução.Como garantir minha reserva? Para efetivar a reserva somente é necessário nos enviar sua documentação. Faremos uma análise e caso esteja tudo certo, sua reserva será confirmada.Quais documentos e informações preciso passar para fazer a locação? Nosso processo é simples e prático, vamos exigir apenas alguns dados pessoais para efetivar a locação.Os dados necessários são: CPF, RG, nome completo e data de nascimentoComo funciona o pagamento?O pagamento é feito no modelo ‘pagar para morar’, ou seja, você efetua o pagamento mensal sempre no começo do mês da sua estadia, até o dia 10. O pagamento é feito por boleto.O processo de locação é demorado? É super rápido! Basta você escolher sua unidade, definir quanto tempo vai ficar e enviar seus documentos. Pronto! Sua moradia estará disponível 24h após confirmação do procedimento e você contará com a equipe Parkside durante todo o processo.Quanto tempo posso ficar? As estadias da Parkside começam em um mês e você pode ficar pelo tempo que quiser. Os preços do pacote variam dependendo do tempo de estadia.Se rescindir o contrato pago multa? Como é o processo de locação?Sim! Para contrato 2 - 6 meses = Multa de 2 meses proporcional ao tempo completado no contrato. Para contrato 12 meses = Multa de 3 meses proporcional ao tempo completado no contrato.\\u200dComo calcular a multa de rescisão (valores como exemplo):\\u200d1. Contrato de 12 meses com o aluguel mensal sendo R$2.000,002. O morador decide rescindir ao completar o 9º mês3. O total da multa no caso dele seria R$6.000,00 (o valor do aluguel R$2.000 x 3 meses quem faltam de multa = R$ 6.000,00)\\xa04. Se ele completou 75% do contrato, basta ele pagar 25% da multa (referente ao que falta do restante do contrato)\\xa05. Neste instante a multa seria R$6.000,00 x 25% = R$1.500,00Como acontece a renovação do contrato?Após o término do contrato, caso tenha interesse, você poderá fazer a renovação de contrato, pelo período e na unidade desejada, diretamente com a nossa equipe.Posso visitar o studio antes? Claro! Para marcar uma visita é só entrar em contato com nosso time de moradia pelo whatsapp: (48) 93618-4750Onde ficam localizados os prédios Parkside?Atualmente nossos prédios estão localizados em Florianópolis-SC. Nos bairros Cacupé, Cachoeira do Bom Jesus e Carvoeira. Em breve, estaremos em outros bairros de Floripa e em mais cidades do Brasil.O que vem incluso no preço do pacote?Serviços inclusos: Condomínio, IPTU e Wi-fi de alta velocidade. Serviços à parte, calculados individualmente de acordo com o consumo, mas inclusos no boleto final: Água e luz , Vaga de estacionamento, Lavanderia e LimpezaO processo de locação é demorado? Nossos studios vem com tudo que você precisa para se mudar e começar a morar bem! Mobília completa, jogo de cama, banho, e utensílios de cozinha. Os apartamentos tem bancada de trabalho, cozinha, e banheiro privativo. Além disso, vem com internet inclusa , SmartTV, e sistema SmartHome. Para saber mais, conheça os apartamentos aqui.O que preciso para me mudar?Bom, visto que o studio é 100% mobiliado e equipado, é necessário apenas a sua mala com roupas e o que mais você desejar trazer pra deixar o studio com a sua personalidade!Aceitam pet?Seu pet é super bem vindo, somos Pet Friendly (:Como funciona a convivência do prédio?Na Parkside você tem seu apartamento privativo e divide as áreas comuns com os outros Parksiders, como coworking, lounge e lavanderia. No nosso Instagram você pode ver um pouco mais de como é a vida em uma comunidade Parkside.Como funciona a segurança dos empreendimentos Parkside?Todos os nossos empreendimentos possuem circuito de segurança 24hCom quem posso falar caso tenha algum problema?Assim que se torna um Parksider, você recebe um living kit com todas as instruções necessárias para sua moradia, com objetivo de resolver qualquer tipo de problema que possa aparecer. Você tem acesso a um número de contato para conversar diretamente com a nossa equipe.O que é a Parkside?A Parkside é uma empresa que desenvolve e opera moradias modernas para locação, atualmente em Florianópolis, SC. Somos um time orientado pelo propósito de criar os empreendimentos mais modernos e com a melhor experiência de moradia do Brasil. Trabalhamos com inovações de ponta que nos permitem construir nossos prédios 4x mais rápido e 80% mais sustentável que o existente no Brasil. Além disso, operamos nossos apartamentos utilizando tecnologias que nos permitem oferecer uma experiência de locação rápida, fácil, e prazerosa.Quero trabalhar na Parkside, como faço?Estamos sempre buscando pessoas motivadas e apaixonadas por desenvolver os melhores e mais inovadores empreendimentos para locação do Brasil. Se essa missão te inspira, veja as vagas abertas no nosso Linkedin ou entre em contato pelo chat.Onde fica localizada a sede da Parkside?O escritório da Parkside fica localizado em Florianópolis-SCQuero investir com a Parkside, como faço?Você pode conhecer mais detalhes sobre a área de investimento da Parkside clicando aqui, ou agendar uma conversa com nosso time de investimento através do número (48) 3036-0601.', metadata={'source': 'https://www.parkside.com.br/duvidas-frequentes'})]"
      ]
     },
     "execution_count": 27,
     "metadata": {},
     "output_type": "execute_result"
    }
   ],
   "execution_count": 27
  },
  {
   "metadata": {
    "ExecuteTime": {
     "end_time": "2024-06-26T13:40:01.210139Z",
     "start_time": "2024-06-26T13:40:01.197283Z"
    }
   },
   "cell_type": "code",
   "source": [
    "text_splitter = RecursiveCharacterTextSplitter(chunk_size=400, chunk_overlap=20)\n",
    "documents = text_splitter.split_documents(text_documents)"
   ],
   "id": "48b60e5053ecc442",
   "outputs": [],
   "execution_count": 28
  },
  {
   "metadata": {
    "ExecuteTime": {
     "end_time": "2024-06-26T13:40:03.831817Z",
     "start_time": "2024-06-26T13:40:01.211133Z"
    }
   },
   "cell_type": "code",
   "source": "db=Chroma.from_documents(documents, OpenAIEmbeddings())",
   "id": "4e9ec74a12b5e898",
   "outputs": [],
   "execution_count": 29
  },
  {
   "metadata": {
    "ExecuteTime": {
     "end_time": "2024-06-26T13:40:04.677679Z",
     "start_time": "2024-06-26T13:40:03.832812Z"
    }
   },
   "cell_type": "code",
   "source": "llm=ChatOpenAI(model='gpt-3.5-turbo')",
   "id": "885e522570f688c7",
   "outputs": [],
   "execution_count": 30
  },
  {
   "metadata": {
    "ExecuteTime": {
     "end_time": "2024-06-26T13:40:04.682140Z",
     "start_time": "2024-06-26T13:40:04.678189Z"
    }
   },
   "cell_type": "code",
   "source": [
    "prompt=ChatPromptTemplate.from_template(\"\"\"\n",
    "Responda a pergunta apenas baseado no contexto fornecido.\n",
    "Pense passo a passo antes de fornecer uma resposta.\n",
    "Tente nao alterar muito o conteudo no contexto fornecido\n",
    "<context>\n",
    "{context}\n",
    "</context>\n",
    "Question: {input}\"\"\")"
   ],
   "id": "e22c8752ab14d86c",
   "outputs": [],
   "execution_count": 31
  },
  {
   "metadata": {
    "ExecuteTime": {
     "end_time": "2024-06-26T13:40:04.689405Z",
     "start_time": "2024-06-26T13:40:04.683137Z"
    }
   },
   "cell_type": "code",
   "source": "document_chain=create_stuff_documents_chain(llm,prompt)",
   "id": "b90c301e521e67f6",
   "outputs": [],
   "execution_count": 32
  },
  {
   "metadata": {
    "ExecuteTime": {
     "end_time": "2024-06-26T13:40:04.698378Z",
     "start_time": "2024-06-26T13:40:04.690399Z"
    }
   },
   "cell_type": "code",
   "source": [
    "retriever = db.as_retriever()\n",
    "retriever"
   ],
   "id": "e3540993b8c4e53f",
   "outputs": [
    {
     "data": {
      "text/plain": [
       "VectorStoreRetriever(tags=['Chroma', 'OpenAIEmbeddings'], vectorstore=<langchain_community.vectorstores.chroma.Chroma object at 0x000001A5EFAA3790>)"
      ]
     },
     "execution_count": 33,
     "metadata": {},
     "output_type": "execute_result"
    }
   ],
   "execution_count": 33
  },
  {
   "metadata": {
    "ExecuteTime": {
     "end_time": "2024-06-26T13:40:04.705039Z",
     "start_time": "2024-06-26T13:40:04.699541Z"
    }
   },
   "cell_type": "code",
   "source": [
    "##Retriever Chain\n",
    "retrieval_chain=create_retrieval_chain(retriever,document_chain)"
   ],
   "id": "95ba7f8779cba982",
   "outputs": [],
   "execution_count": 34
  },
  {
   "metadata": {
    "ExecuteTime": {
     "end_time": "2024-06-26T13:40:06.160574Z",
     "start_time": "2024-06-26T13:40:04.706036Z"
    }
   },
   "cell_type": "code",
   "source": "response = retrieval_chain.invoke({'input':\"Quanto e 2+ 2\"})",
   "id": "e5624e3bc3d587ae",
   "outputs": [],
   "execution_count": 35
  },
  {
   "metadata": {
    "ExecuteTime": {
     "end_time": "2024-06-26T13:40:06.165752Z",
     "start_time": "2024-06-26T13:40:06.161569Z"
    }
   },
   "cell_type": "code",
   "source": "response['answer']",
   "id": "f6065bf7480ebd5c",
   "outputs": [
    {
     "data": {
      "text/plain": [
       "'4'"
      ]
     },
     "execution_count": 36,
     "metadata": {},
     "output_type": "execute_result"
    }
   ],
   "execution_count": 36
  },
  {
   "metadata": {
    "ExecuteTime": {
     "end_time": "2024-06-26T13:40:06.169327Z",
     "start_time": "2024-06-26T13:40:06.166747Z"
    }
   },
   "cell_type": "code",
   "source": "",
   "id": "167003dfdbd3675",
   "outputs": [],
   "execution_count": 36
  }
 ],
 "metadata": {
  "kernelspec": {
   "display_name": "Python 3",
   "language": "python",
   "name": "python3"
  },
  "language_info": {
   "codemirror_mode": {
    "name": "ipython",
    "version": 2
   },
   "file_extension": ".py",
   "mimetype": "text/x-python",
   "name": "python",
   "nbconvert_exporter": "python",
   "pygments_lexer": "ipython2",
   "version": "2.7.6"
  }
 },
 "nbformat": 4,
 "nbformat_minor": 5
}
